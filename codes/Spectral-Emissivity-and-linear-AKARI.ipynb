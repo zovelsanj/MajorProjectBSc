{
 "cells": [
  {
   "cell_type": "code",
   "execution_count": 1,
   "metadata": {},
   "outputs": [],
   "source": [
    "import numpy as np \n",
    "import os\n",
    "import glob\n",
    "import pandas as pd\n",
    "from sklearn.metrics import r2_score\n",
    "from scipy import optimize as som\n",
    "import matplotlib.pyplot as plt\n",
    "%matplotlib inline"
   ]
  },
  {
   "cell_type": "code",
   "execution_count": 2,
   "metadata": {},
   "outputs": [],
   "source": [
    "CURR_DIR = os.getcwd()\n",
    "\n",
    "MAIN_DIR = '.'\n",
    "if os.path.basename(CURR_DIR)!=\"Project_Work22.04\":\n",
    "    os.chdir(\"..\")\n",
    "DATA_DIR = os.path.join(MAIN_DIR,\"Data\")\n",
    "FITS_DIR = os.path.join(MAIN_DIR,\"Fits\")\n",
    "FIG_DIR = os.path.join(MAIN_DIR,\"Project-Files/Figures/\")"
   ]
  },
  {
   "cell_type": "code",
   "execution_count": 3,
   "metadata": {},
   "outputs": [
    {
     "data": {
      "text/plain": [
       "['./Data/GD61-100pxData-Sheet1.csv',\n",
       " './Data/GD61_simbad.csv',\n",
       " './Data/Gaia-WD0011-399.csv',\n",
       " './Data/Gaia-result.csv',\n",
       " './Data/WD0011-399_AKARI.csv',\n",
       " './Data/WD0011-399_IRAS.csv',\n",
       " './Data/WD0011-399_WISE.csv',\n",
       " './Data/WD0011-399_zSimbad.csv',\n",
       " './Data/akariup_final.csv']"
      ]
     },
     "execution_count": 3,
     "metadata": {},
     "output_type": "execute_result"
    }
   ],
   "source": [
    "data_files = sorted(glob.glob(DATA_DIR + \"/**/*.csv\", recursive=True))\n",
    "data_files"
   ]
  },
  {
   "cell_type": "code",
   "execution_count": 4,
   "metadata": {},
   "outputs": [
    {
     "data": {
      "text/html": [
       "<div>\n",
       "<style scoped>\n",
       "    .dataframe tbody tr th:only-of-type {\n",
       "        vertical-align: middle;\n",
       "    }\n",
       "\n",
       "    .dataframe tbody tr th {\n",
       "        vertical-align: top;\n",
       "    }\n",
       "\n",
       "    .dataframe thead th {\n",
       "        text-align: right;\n",
       "    }\n",
       "</style>\n",
       "<table border=\"1\" class=\"dataframe\">\n",
       "  <thead>\n",
       "    <tr style=\"text-align: right;\">\n",
       "      <th></th>\n",
       "      <th>F90</th>\n",
       "      <th>x</th>\n",
       "      <th>y</th>\n",
       "      <th>RA</th>\n",
       "      <th>DEC</th>\n",
       "      <th>F140</th>\n",
       "      <th>x1</th>\n",
       "      <th>y1</th>\n",
       "      <th>RA1</th>\n",
       "      <th>DEC1</th>\n",
       "    </tr>\n",
       "  </thead>\n",
       "  <tbody>\n",
       "    <tr>\n",
       "      <th>0</th>\n",
       "      <td>0.762714</td>\n",
       "      <td>1</td>\n",
       "      <td>30</td>\n",
       "      <td>3.856797</td>\n",
       "      <td>-39.115224</td>\n",
       "      <td>3.066137</td>\n",
       "      <td>1</td>\n",
       "      <td>30</td>\n",
       "      <td>3.856797</td>\n",
       "      <td>-39.115224</td>\n",
       "    </tr>\n",
       "    <tr>\n",
       "      <th>1</th>\n",
       "      <td>1.286675</td>\n",
       "      <td>2</td>\n",
       "      <td>30</td>\n",
       "      <td>3.849064</td>\n",
       "      <td>-39.115231</td>\n",
       "      <td>2.553307</td>\n",
       "      <td>2</td>\n",
       "      <td>30</td>\n",
       "      <td>3.849064</td>\n",
       "      <td>-39.115231</td>\n",
       "    </tr>\n",
       "    <tr>\n",
       "      <th>2</th>\n",
       "      <td>1.758307</td>\n",
       "      <td>3</td>\n",
       "      <td>30</td>\n",
       "      <td>3.841331</td>\n",
       "      <td>-39.115238</td>\n",
       "      <td>2.927438</td>\n",
       "      <td>3</td>\n",
       "      <td>30</td>\n",
       "      <td>3.841331</td>\n",
       "      <td>-39.115238</td>\n",
       "    </tr>\n",
       "    <tr>\n",
       "      <th>3</th>\n",
       "      <td>1.834949</td>\n",
       "      <td>4</td>\n",
       "      <td>30</td>\n",
       "      <td>3.833598</td>\n",
       "      <td>-39.115244</td>\n",
       "      <td>3.635061</td>\n",
       "      <td>4</td>\n",
       "      <td>30</td>\n",
       "      <td>3.833598</td>\n",
       "      <td>-39.115244</td>\n",
       "    </tr>\n",
       "    <tr>\n",
       "      <th>4</th>\n",
       "      <td>1.411721</td>\n",
       "      <td>5</td>\n",
       "      <td>30</td>\n",
       "      <td>3.825865</td>\n",
       "      <td>-39.115250</td>\n",
       "      <td>4.300227</td>\n",
       "      <td>5</td>\n",
       "      <td>30</td>\n",
       "      <td>3.825865</td>\n",
       "      <td>-39.115250</td>\n",
       "    </tr>\n",
       "    <tr>\n",
       "      <th>...</th>\n",
       "      <td>...</td>\n",
       "      <td>...</td>\n",
       "      <td>...</td>\n",
       "      <td>...</td>\n",
       "      <td>...</td>\n",
       "      <td>...</td>\n",
       "      <td>...</td>\n",
       "      <td>...</td>\n",
       "      <td>...</td>\n",
       "      <td>...</td>\n",
       "    </tr>\n",
       "    <tr>\n",
       "      <th>895</th>\n",
       "      <td>2.257539</td>\n",
       "      <td>26</td>\n",
       "      <td>1</td>\n",
       "      <td>3.663267</td>\n",
       "      <td>-39.289249</td>\n",
       "      <td>3.044896</td>\n",
       "      <td>26</td>\n",
       "      <td>1</td>\n",
       "      <td>3.663267</td>\n",
       "      <td>-39.289249</td>\n",
       "    </tr>\n",
       "    <tr>\n",
       "      <th>896</th>\n",
       "      <td>2.256902</td>\n",
       "      <td>27</td>\n",
       "      <td>1</td>\n",
       "      <td>3.655515</td>\n",
       "      <td>-39.289244</td>\n",
       "      <td>3.667239</td>\n",
       "      <td>27</td>\n",
       "      <td>1</td>\n",
       "      <td>3.655515</td>\n",
       "      <td>-39.289244</td>\n",
       "    </tr>\n",
       "    <tr>\n",
       "      <th>897</th>\n",
       "      <td>1.711771</td>\n",
       "      <td>28</td>\n",
       "      <td>1</td>\n",
       "      <td>3.647762</td>\n",
       "      <td>-39.289238</td>\n",
       "      <td>3.003741</td>\n",
       "      <td>28</td>\n",
       "      <td>1</td>\n",
       "      <td>3.647762</td>\n",
       "      <td>-39.289238</td>\n",
       "    </tr>\n",
       "    <tr>\n",
       "      <th>898</th>\n",
       "      <td>1.685992</td>\n",
       "      <td>29</td>\n",
       "      <td>1</td>\n",
       "      <td>3.640010</td>\n",
       "      <td>-39.289231</td>\n",
       "      <td>2.440917</td>\n",
       "      <td>29</td>\n",
       "      <td>1</td>\n",
       "      <td>3.640010</td>\n",
       "      <td>-39.289231</td>\n",
       "    </tr>\n",
       "    <tr>\n",
       "      <th>899</th>\n",
       "      <td>1.637724</td>\n",
       "      <td>30</td>\n",
       "      <td>1</td>\n",
       "      <td>3.632258</td>\n",
       "      <td>-39.289224</td>\n",
       "      <td>1.952804</td>\n",
       "      <td>30</td>\n",
       "      <td>1</td>\n",
       "      <td>3.632258</td>\n",
       "      <td>-39.289224</td>\n",
       "    </tr>\n",
       "  </tbody>\n",
       "</table>\n",
       "<p>900 rows × 10 columns</p>\n",
       "</div>"
      ],
      "text/plain": [
       "          F90   x   y        RA        DEC      F140  x1  y1       RA1  \\\n",
       "0    0.762714   1  30  3.856797 -39.115224  3.066137   1  30  3.856797   \n",
       "1    1.286675   2  30  3.849064 -39.115231  2.553307   2  30  3.849064   \n",
       "2    1.758307   3  30  3.841331 -39.115238  2.927438   3  30  3.841331   \n",
       "3    1.834949   4  30  3.833598 -39.115244  3.635061   4  30  3.833598   \n",
       "4    1.411721   5  30  3.825865 -39.115250  4.300227   5  30  3.825865   \n",
       "..        ...  ..  ..       ...        ...       ...  ..  ..       ...   \n",
       "895  2.257539  26   1  3.663267 -39.289249  3.044896  26   1  3.663267   \n",
       "896  2.256902  27   1  3.655515 -39.289244  3.667239  27   1  3.655515   \n",
       "897  1.711771  28   1  3.647762 -39.289238  3.003741  28   1  3.647762   \n",
       "898  1.685992  29   1  3.640010 -39.289231  2.440917  29   1  3.640010   \n",
       "899  1.637724  30   1  3.632258 -39.289224  1.952804  30   1  3.632258   \n",
       "\n",
       "          DEC1  \n",
       "0   -39.115224  \n",
       "1   -39.115231  \n",
       "2   -39.115238  \n",
       "3   -39.115244  \n",
       "4   -39.115250  \n",
       "..         ...  \n",
       "895 -39.289249  \n",
       "896 -39.289244  \n",
       "897 -39.289238  \n",
       "898 -39.289231  \n",
       "899 -39.289224  \n",
       "\n",
       "[900 rows x 10 columns]"
      ]
     },
     "execution_count": 4,
     "metadata": {},
     "output_type": "execute_result"
    }
   ],
   "source": [
    "data_akari = pd.read_csv(data_files[4])\n",
    "data_akari"
   ]
  },
  {
   "cell_type": "code",
   "execution_count": 5,
   "metadata": {},
   "outputs": [
    {
     "data": {
      "text/html": [
       "<div>\n",
       "<style scoped>\n",
       "    .dataframe tbody tr th:only-of-type {\n",
       "        vertical-align: middle;\n",
       "    }\n",
       "\n",
       "    .dataframe tbody tr th {\n",
       "        vertical-align: top;\n",
       "    }\n",
       "\n",
       "    .dataframe thead th {\n",
       "        text-align: right;\n",
       "    }\n",
       "</style>\n",
       "<table border=\"1\" class=\"dataframe\">\n",
       "  <thead>\n",
       "    <tr style=\"text-align: right;\">\n",
       "      <th></th>\n",
       "      <th>F60</th>\n",
       "      <th>x</th>\n",
       "      <th>y</th>\n",
       "      <th>RA</th>\n",
       "      <th>DEC</th>\n",
       "      <th>F100</th>\n",
       "      <th>x1</th>\n",
       "      <th>y1</th>\n",
       "      <th>RA1</th>\n",
       "      <th>DEC1</th>\n",
       "    </tr>\n",
       "  </thead>\n",
       "  <tbody>\n",
       "    <tr>\n",
       "      <th>0</th>\n",
       "      <td>0.632244</td>\n",
       "      <td>1</td>\n",
       "      <td>25</td>\n",
       "      <td>4.106359</td>\n",
       "      <td>-38.961595</td>\n",
       "      <td>1.756098</td>\n",
       "      <td>1</td>\n",
       "      <td>25</td>\n",
       "      <td>4.106359</td>\n",
       "      <td>-38.961595</td>\n",
       "    </tr>\n",
       "    <tr>\n",
       "      <th>1</th>\n",
       "      <td>0.646267</td>\n",
       "      <td>2</td>\n",
       "      <td>25</td>\n",
       "      <td>4.080639</td>\n",
       "      <td>-38.961660</td>\n",
       "      <td>1.764143</td>\n",
       "      <td>2</td>\n",
       "      <td>25</td>\n",
       "      <td>4.080639</td>\n",
       "      <td>-38.961660</td>\n",
       "    </tr>\n",
       "    <tr>\n",
       "      <th>2</th>\n",
       "      <td>0.713218</td>\n",
       "      <td>3</td>\n",
       "      <td>25</td>\n",
       "      <td>4.054918</td>\n",
       "      <td>-38.961719</td>\n",
       "      <td>1.685077</td>\n",
       "      <td>3</td>\n",
       "      <td>25</td>\n",
       "      <td>4.054918</td>\n",
       "      <td>-38.961719</td>\n",
       "    </tr>\n",
       "    <tr>\n",
       "      <th>3</th>\n",
       "      <td>0.640321</td>\n",
       "      <td>4</td>\n",
       "      <td>25</td>\n",
       "      <td>4.029197</td>\n",
       "      <td>-38.961773</td>\n",
       "      <td>1.639124</td>\n",
       "      <td>4</td>\n",
       "      <td>25</td>\n",
       "      <td>4.029197</td>\n",
       "      <td>-38.961773</td>\n",
       "    </tr>\n",
       "    <tr>\n",
       "      <th>4</th>\n",
       "      <td>0.640321</td>\n",
       "      <td>5</td>\n",
       "      <td>25</td>\n",
       "      <td>4.003477</td>\n",
       "      <td>-38.961821</td>\n",
       "      <td>1.639124</td>\n",
       "      <td>5</td>\n",
       "      <td>25</td>\n",
       "      <td>4.003477</td>\n",
       "      <td>-38.961821</td>\n",
       "    </tr>\n",
       "    <tr>\n",
       "      <th>...</th>\n",
       "      <td>...</td>\n",
       "      <td>...</td>\n",
       "      <td>...</td>\n",
       "      <td>...</td>\n",
       "      <td>...</td>\n",
       "      <td>...</td>\n",
       "      <td>...</td>\n",
       "      <td>...</td>\n",
       "      <td>...</td>\n",
       "      <td>...</td>\n",
       "    </tr>\n",
       "    <tr>\n",
       "      <th>620</th>\n",
       "      <td>0.637537</td>\n",
       "      <td>21</td>\n",
       "      <td>1</td>\n",
       "      <td>3.590529</td>\n",
       "      <td>-39.441815</td>\n",
       "      <td>1.567818</td>\n",
       "      <td>21</td>\n",
       "      <td>1</td>\n",
       "      <td>3.590529</td>\n",
       "      <td>-39.441815</td>\n",
       "    </tr>\n",
       "    <tr>\n",
       "      <th>621</th>\n",
       "      <td>0.557569</td>\n",
       "      <td>22</td>\n",
       "      <td>1</td>\n",
       "      <td>3.564632</td>\n",
       "      <td>-39.441766</td>\n",
       "      <td>1.552701</td>\n",
       "      <td>22</td>\n",
       "      <td>1</td>\n",
       "      <td>3.564632</td>\n",
       "      <td>-39.441766</td>\n",
       "    </tr>\n",
       "    <tr>\n",
       "      <th>622</th>\n",
       "      <td>0.557569</td>\n",
       "      <td>23</td>\n",
       "      <td>1</td>\n",
       "      <td>3.538735</td>\n",
       "      <td>-39.441711</td>\n",
       "      <td>1.552701</td>\n",
       "      <td>23</td>\n",
       "      <td>1</td>\n",
       "      <td>3.538735</td>\n",
       "      <td>-39.441711</td>\n",
       "    </tr>\n",
       "    <tr>\n",
       "      <th>623</th>\n",
       "      <td>0.544347</td>\n",
       "      <td>24</td>\n",
       "      <td>1</td>\n",
       "      <td>3.512838</td>\n",
       "      <td>-39.441651</td>\n",
       "      <td>1.507985</td>\n",
       "      <td>24</td>\n",
       "      <td>1</td>\n",
       "      <td>3.512838</td>\n",
       "      <td>-39.441651</td>\n",
       "    </tr>\n",
       "    <tr>\n",
       "      <th>624</th>\n",
       "      <td>0.532718</td>\n",
       "      <td>25</td>\n",
       "      <td>1</td>\n",
       "      <td>3.486941</td>\n",
       "      <td>-39.441585</td>\n",
       "      <td>1.481793</td>\n",
       "      <td>25</td>\n",
       "      <td>1</td>\n",
       "      <td>3.486941</td>\n",
       "      <td>-39.441585</td>\n",
       "    </tr>\n",
       "  </tbody>\n",
       "</table>\n",
       "<p>625 rows × 10 columns</p>\n",
       "</div>"
      ],
      "text/plain": [
       "          F60   x   y        RA        DEC      F100  x1  y1       RA1  \\\n",
       "0    0.632244   1  25  4.106359 -38.961595  1.756098   1  25  4.106359   \n",
       "1    0.646267   2  25  4.080639 -38.961660  1.764143   2  25  4.080639   \n",
       "2    0.713218   3  25  4.054918 -38.961719  1.685077   3  25  4.054918   \n",
       "3    0.640321   4  25  4.029197 -38.961773  1.639124   4  25  4.029197   \n",
       "4    0.640321   5  25  4.003477 -38.961821  1.639124   5  25  4.003477   \n",
       "..        ...  ..  ..       ...        ...       ...  ..  ..       ...   \n",
       "620  0.637537  21   1  3.590529 -39.441815  1.567818  21   1  3.590529   \n",
       "621  0.557569  22   1  3.564632 -39.441766  1.552701  22   1  3.564632   \n",
       "622  0.557569  23   1  3.538735 -39.441711  1.552701  23   1  3.538735   \n",
       "623  0.544347  24   1  3.512838 -39.441651  1.507985  24   1  3.512838   \n",
       "624  0.532718  25   1  3.486941 -39.441585  1.481793  25   1  3.486941   \n",
       "\n",
       "          DEC1  \n",
       "0   -38.961595  \n",
       "1   -38.961660  \n",
       "2   -38.961719  \n",
       "3   -38.961773  \n",
       "4   -38.961821  \n",
       "..         ...  \n",
       "620 -39.441815  \n",
       "621 -39.441766  \n",
       "622 -39.441711  \n",
       "623 -39.441651  \n",
       "624 -39.441585  \n",
       "\n",
       "[625 rows x 10 columns]"
      ]
     },
     "execution_count": 5,
     "metadata": {},
     "output_type": "execute_result"
    }
   ],
   "source": [
    "data_iras = pd.read_csv(data_files[5])\n",
    "data_iras"
   ]
  },
  {
   "cell_type": "code",
   "execution_count": 6,
   "metadata": {},
   "outputs": [
    {
     "data": {
      "text/html": [
       "<div>\n",
       "<style scoped>\n",
       "    .dataframe tbody tr th:only-of-type {\n",
       "        vertical-align: middle;\n",
       "    }\n",
       "\n",
       "    .dataframe tbody tr th {\n",
       "        vertical-align: top;\n",
       "    }\n",
       "\n",
       "    .dataframe thead th {\n",
       "        text-align: right;\n",
       "    }\n",
       "</style>\n",
       "<table border=\"1\" class=\"dataframe\">\n",
       "  <thead>\n",
       "    <tr style=\"text-align: right;\">\n",
       "      <th></th>\n",
       "      <th>F12</th>\n",
       "      <th>x</th>\n",
       "      <th>y</th>\n",
       "      <th>RA</th>\n",
       "      <th>DEC</th>\n",
       "      <th>F22</th>\n",
       "      <th>x1</th>\n",
       "      <th>y1</th>\n",
       "      <th>RA1</th>\n",
       "      <th>DEC1</th>\n",
       "    </tr>\n",
       "  </thead>\n",
       "  <tbody>\n",
       "    <tr>\n",
       "      <th>0</th>\n",
       "      <td>425.113007</td>\n",
       "      <td>1</td>\n",
       "      <td>30</td>\n",
       "      <td>3.806996</td>\n",
       "      <td>-39.153928</td>\n",
       "      <td>127.219253</td>\n",
       "      <td>1</td>\n",
       "      <td>30</td>\n",
       "      <td>3.806996</td>\n",
       "      <td>-39.153928</td>\n",
       "    </tr>\n",
       "    <tr>\n",
       "      <th>1</th>\n",
       "      <td>424.051025</td>\n",
       "      <td>2</td>\n",
       "      <td>30</td>\n",
       "      <td>3.802697</td>\n",
       "      <td>-39.153930</td>\n",
       "      <td>127.189728</td>\n",
       "      <td>2</td>\n",
       "      <td>30</td>\n",
       "      <td>3.802697</td>\n",
       "      <td>-39.153930</td>\n",
       "    </tr>\n",
       "    <tr>\n",
       "      <th>2</th>\n",
       "      <td>423.813385</td>\n",
       "      <td>3</td>\n",
       "      <td>30</td>\n",
       "      <td>3.798399</td>\n",
       "      <td>-39.153932</td>\n",
       "      <td>127.183258</td>\n",
       "      <td>3</td>\n",
       "      <td>30</td>\n",
       "      <td>3.798399</td>\n",
       "      <td>-39.153932</td>\n",
       "    </tr>\n",
       "    <tr>\n",
       "      <th>3</th>\n",
       "      <td>424.799988</td>\n",
       "      <td>4</td>\n",
       "      <td>30</td>\n",
       "      <td>3.794100</td>\n",
       "      <td>-39.153934</td>\n",
       "      <td>127.265892</td>\n",
       "      <td>4</td>\n",
       "      <td>30</td>\n",
       "      <td>3.794100</td>\n",
       "      <td>-39.153934</td>\n",
       "    </tr>\n",
       "    <tr>\n",
       "      <th>4</th>\n",
       "      <td>424.565796</td>\n",
       "      <td>5</td>\n",
       "      <td>30</td>\n",
       "      <td>3.789802</td>\n",
       "      <td>-39.153936</td>\n",
       "      <td>127.223099</td>\n",
       "      <td>5</td>\n",
       "      <td>30</td>\n",
       "      <td>3.789802</td>\n",
       "      <td>-39.153936</td>\n",
       "    </tr>\n",
       "    <tr>\n",
       "      <th>...</th>\n",
       "      <td>...</td>\n",
       "      <td>...</td>\n",
       "      <td>...</td>\n",
       "      <td>...</td>\n",
       "      <td>...</td>\n",
       "      <td>...</td>\n",
       "      <td>...</td>\n",
       "      <td>...</td>\n",
       "      <td>...</td>\n",
       "      <td>...</td>\n",
       "    </tr>\n",
       "    <tr>\n",
       "      <th>895</th>\n",
       "      <td>424.526001</td>\n",
       "      <td>26</td>\n",
       "      <td>1</td>\n",
       "      <td>3.699470</td>\n",
       "      <td>-39.250602</td>\n",
       "      <td>127.229324</td>\n",
       "      <td>26</td>\n",
       "      <td>1</td>\n",
       "      <td>3.699470</td>\n",
       "      <td>-39.250602</td>\n",
       "    </tr>\n",
       "    <tr>\n",
       "      <th>896</th>\n",
       "      <td>425.028381</td>\n",
       "      <td>27</td>\n",
       "      <td>1</td>\n",
       "      <td>3.695165</td>\n",
       "      <td>-39.250601</td>\n",
       "      <td>127.294769</td>\n",
       "      <td>27</td>\n",
       "      <td>1</td>\n",
       "      <td>3.695165</td>\n",
       "      <td>-39.250601</td>\n",
       "    </tr>\n",
       "    <tr>\n",
       "      <th>897</th>\n",
       "      <td>424.715057</td>\n",
       "      <td>28</td>\n",
       "      <td>1</td>\n",
       "      <td>3.690861</td>\n",
       "      <td>-39.250599</td>\n",
       "      <td>127.293732</td>\n",
       "      <td>28</td>\n",
       "      <td>1</td>\n",
       "      <td>3.690861</td>\n",
       "      <td>-39.250599</td>\n",
       "    </tr>\n",
       "    <tr>\n",
       "      <th>898</th>\n",
       "      <td>425.010651</td>\n",
       "      <td>29</td>\n",
       "      <td>1</td>\n",
       "      <td>3.686556</td>\n",
       "      <td>-39.250597</td>\n",
       "      <td>127.313255</td>\n",
       "      <td>29</td>\n",
       "      <td>1</td>\n",
       "      <td>3.686556</td>\n",
       "      <td>-39.250597</td>\n",
       "    </tr>\n",
       "    <tr>\n",
       "      <th>899</th>\n",
       "      <td>424.744293</td>\n",
       "      <td>30</td>\n",
       "      <td>1</td>\n",
       "      <td>3.682252</td>\n",
       "      <td>-39.250594</td>\n",
       "      <td>127.241157</td>\n",
       "      <td>30</td>\n",
       "      <td>1</td>\n",
       "      <td>3.682252</td>\n",
       "      <td>-39.250594</td>\n",
       "    </tr>\n",
       "  </tbody>\n",
       "</table>\n",
       "<p>900 rows × 10 columns</p>\n",
       "</div>"
      ],
      "text/plain": [
       "            F12   x   y        RA        DEC         F22  x1  y1       RA1  \\\n",
       "0    425.113007   1  30  3.806996 -39.153928  127.219253   1  30  3.806996   \n",
       "1    424.051025   2  30  3.802697 -39.153930  127.189728   2  30  3.802697   \n",
       "2    423.813385   3  30  3.798399 -39.153932  127.183258   3  30  3.798399   \n",
       "3    424.799988   4  30  3.794100 -39.153934  127.265892   4  30  3.794100   \n",
       "4    424.565796   5  30  3.789802 -39.153936  127.223099   5  30  3.789802   \n",
       "..          ...  ..  ..       ...        ...         ...  ..  ..       ...   \n",
       "895  424.526001  26   1  3.699470 -39.250602  127.229324  26   1  3.699470   \n",
       "896  425.028381  27   1  3.695165 -39.250601  127.294769  27   1  3.695165   \n",
       "897  424.715057  28   1  3.690861 -39.250599  127.293732  28   1  3.690861   \n",
       "898  425.010651  29   1  3.686556 -39.250597  127.313255  29   1  3.686556   \n",
       "899  424.744293  30   1  3.682252 -39.250594  127.241157  30   1  3.682252   \n",
       "\n",
       "          DEC1  \n",
       "0   -39.153928  \n",
       "1   -39.153930  \n",
       "2   -39.153932  \n",
       "3   -39.153934  \n",
       "4   -39.153936  \n",
       "..         ...  \n",
       "895 -39.250602  \n",
       "896 -39.250601  \n",
       "897 -39.250599  \n",
       "898 -39.250597  \n",
       "899 -39.250594  \n",
       "\n",
       "[900 rows x 10 columns]"
      ]
     },
     "execution_count": 6,
     "metadata": {},
     "output_type": "execute_result"
    }
   ],
   "source": [
    "data_wise = pd.read_csv(data_files[6])\n",
    "data_wise"
   ]
  },
  {
   "cell_type": "code",
   "execution_count": null,
   "metadata": {},
   "outputs": [],
   "source": [
    "data_akari = data_akari[data_akari.F90>12]\n",
    "data_akari = data_akari[data_akari.F140>22]\n",
    "\n",
    "data_iras = data_iras[data_iras.F60>0.7]\n",
    "data_iras = data_iras[data_iras.F100>2.9]\n",
    "\n",
    "data_wise = data_wise[data_wise.F12>440]\n",
    "data_wise = data_wise[data_wise.F22>128]"
   ]
  },
  {
   "cell_type": "code",
   "execution_count": 79,
   "metadata": {},
   "outputs": [],
   "source": [
    "def emissivity(F1, F2, mode=\"iras\"):\n",
    "    a = np.arange(0,3.1, 0.1)\n",
    "    Temp = []\n",
    "    Beta = []\n",
    "    coeff = -96\n",
    "    if mode==\"akari\": coeff = -57\n",
    "    elif mode==\"wise\": coeff = -545.13\n",
    "        \n",
    "    for r in a:\n",
    "        T = [coeff/(np.log((F1/F2)*0.64**(r+3)))]\n",
    "        Temp.append(T)\n",
    "        Beta.append(r)\n",
    "        \n",
    "    Tavg = [np.mean(Temp[i]) for i in range(31)]\n",
    "    yerr = np.std(Tavg)/np.sqrt(len(Tavg))\n",
    "    Tavg = np.array(Tavg)\n",
    "    \n",
    "    def fun(Tav, a, b):\n",
    "        Beta = float(1)/(a+(b*Tavg))\n",
    "        return Beta\n",
    "    \n",
    "    yerr = np.std(Beta)/np.sqrt(len(Beta))\n",
    "    return Tavg, yerr, Beta"
   ]
  },
  {
   "cell_type": "code",
   "execution_count": 121,
   "metadata": {},
   "outputs": [],
   "source": [
    "def plot(Tavg, yerr, Beta, title):\n",
    "    plt.figure(figsize = [6,5])\n",
    "    mymodel = np.poly1d(np.polyfit(Tavg, Beta, 2))\n",
    "    popt, pcov = som.curve_fit(fun, Tavg, Beta)\n",
    "    fit_data = fun(Tavg, popt[0], popt[1])\n",
    "    (_, caps, _) = plt.errorbar(Tavg, Beta, yerr, fmt='ok', capsize=3, elinewidth=1, label = 'Data Points with SE')\n",
    "\n",
    "    r2_parab = np.round(r2_score(Beta, mymodel(Tavg)),2)\n",
    "    r2_hyp = np.round(r2_score(Beta, fit_data),2)\n",
    "    for cap in caps:\n",
    "        cap.set_color('b')\n",
    "        cap.set_markeredgewidth(3)\n",
    "    plt.title(title, weight='bold')\n",
    "    plt.plot(Tavg, mymodel(Tavg), color = 'r', lw = 3, label = 'Best Fit parabola, r$^2$='+str(r2_parab))\n",
    "#     plt.plot(Tav, fit_data,'--', label='Best Fit Hyperbola, r$^2$='+str(r2_hyp), color = 'r', lw = 3)\n",
    "    plt.ylabel('Spectral Index', weight = None, fontsize = 14, color = 'k')\n",
    "    plt.xlabel('Average Temperature (K)', weight = None,fontsize = 14, color = 'k')\n",
    "    plt.legend(fontsize = 12,)\n",
    "    plt.xticks(fontweight = None ,fontsize = 12, color = 'k')\n",
    "    plt.yticks(fontweight = None ,fontsize = 12, color = 'k')\n",
    "    plt.tight_layout()"
   ]
  },
  {
   "cell_type": "code",
   "execution_count": 122,
   "metadata": {},
   "outputs": [
    {
     "data": {
      "text/plain": [
       "(24.59031577548402, 0.1606438657804998)"
      ]
     },
     "execution_count": 122,
     "metadata": {},
     "output_type": "execute_result"
    },
    {
     "data": {
      "image/png": "[encoded data removed]",
      "text/plain": [
       "<Figure size 432x360 with 1 Axes>"
      ]
     },
     "metadata": {
      "needs_background": "light"
     },
     "output_type": "display_data"
    }
   ],
   "source": [
    "Tavg_akari, yerr_akari, Beta_akari = emissivity(data_akari.F90, data_akari.F140, mode=\"akari\")\n",
    "plot(Tavg_akari, yerr_akari, Beta_akari, 'AKARI')\n",
    "plt.savefig(FIG_DIR+\"akari_emissivity.png\")\n",
    "np.mean(Tavg_akari), yerr_akari"
   ]
  },
  {
   "cell_type": "code",
   "execution_count": 123,
   "metadata": {},
   "outputs": [
    {
     "data": {
      "text/plain": [
       "(32.66204361062239, 0.1606438657804998)"
      ]
     },
     "execution_count": 123,
     "metadata": {},
     "output_type": "execute_result"
    },
    {
     "data": {
      "image/png": "[encoded data removed]",
      "text/plain": [
       "<Figure size 432x360 with 1 Axes>"
      ]
     },
     "metadata": {
      "needs_background": "light"
     },
     "output_type": "display_data"
    }
   ],
   "source": [
    "Tavg_iras, yerr_iras, Beta_iras = emissivity(data_iras.F60, data_iras.F100)\n",
    "plot(Tavg_iras, yerr_iras, Beta_iras, \"IRAS\")\n",
    "plt.savefig(FIG_DIR+\"iras_emissivity.png\")\n",
    "\n",
    "np.mean(Tavg_iras), yerr_iras"
   ]
  },
  {
   "cell_type": "code",
   "execution_count": 117,
   "metadata": {},
   "outputs": [
    {
     "data": {
      "text/plain": [
       "(1035.7613482865163, 0.1606438657804998)"
      ]
     },
     "execution_count": 117,
     "metadata": {},
     "output_type": "execute_result"
    },
    {
     "data": {
      "image/png": "[encoded data removed]",
      "text/plain": [
       "<Figure size 432x360 with 1 Axes>"
      ]
     },
     "metadata": {
      "needs_background": "light"
     },
     "output_type": "display_data"
    }
   ],
   "source": [
    "Tavg_wise, yerr_wise, Beta_wise = emissivity(data_wise.F12, data_wise.F22, mode=\"wise\")\n",
    "plot(Tavg_wise, yerr_wise, Beta_wise, \"WISE\")\n",
    "plt.savefig(FIG_DIR+\"wise_emissivity.png\")\n",
    "\n",
    "np.mean(Tavg_wise), yerr_wise"
   ]
  },
  {
   "cell_type": "code",
   "execution_count": 77,
   "metadata": {},
   "outputs": [
    {
     "data": {
      "text/plain": [
       "(31, 31)"
      ]
     },
     "execution_count": 77,
     "metadata": {},
     "output_type": "execute_result"
    }
   ],
   "source": [
    "Temp = []\n",
    "Beta = []\n",
    "for r in a: #for loop\n",
    "    T = [-545.13/(np.log((data_wise.F12/data_wise.F22)*0.64**(r+3)))]\n",
    "    Temp.append(T)\n",
    "    Beta.append(r)\n",
    "len(Temp), len(Beta)"
   ]
  },
  {
   "cell_type": "code",
   "execution_count": 78,
   "metadata": {},
   "outputs": [
    {
     "data": {
      "text/plain": [
       "(1035.7613482865163, 888.780595999544, 31, 159.62970738003511)"
      ]
     },
     "execution_count": 78,
     "metadata": {},
     "output_type": "execute_result"
    }
   ],
   "source": [
    "Tav = [np.mean(Temp[i]) for i in range(31)]\n",
    "yerr = np.std(Tav)/np.sqrt(len(Tav))\n",
    "np.mean(Tav),np.std(Tav),len(Tav), yerr"
   ]
  },
  {
   "cell_type": "code",
   "execution_count": 69,
   "metadata": {},
   "outputs": [],
   "source": [
    "Tav = np.array(Tav)\n",
    "def fun(Tav, a, b):\n",
    "    Beta = float(1)/(a+(b*Tav))\n",
    "    return Beta"
   ]
  },
  {
   "cell_type": "code",
   "execution_count": 70,
   "metadata": {},
   "outputs": [
    {
     "data": {
      "text/plain": [
       "0.1606438657804998"
      ]
     },
     "execution_count": 70,
     "metadata": {},
     "output_type": "execute_result"
    }
   ],
   "source": [
    "yerr = np.std(Beta)/np.sqrt(len(Beta))\n",
    "yerr"
   ]
  },
  {
   "cell_type": "code",
   "execution_count": 71,
   "metadata": {},
   "outputs": [
    {
     "data": {
      "image/png": "[encoded data removed]",
      "text/plain": [
       "<Figure size 432x360 with 1 Axes>"
      ]
     },
     "metadata": {
      "needs_background": "light"
     },
     "output_type": "display_data"
    }
   ],
   "source": [
    "\n",
    "plt.figure(figsize = [6,5])\n",
    "mymodel = np.poly1d(np.polyfit(Tav, Beta, 2))\n",
    "popt, pcov = som.curve_fit(fun, Tav, Beta)\n",
    "fit_data = fun(Tav, popt[0], popt[1])\n",
    "(_, caps, _) = plt.errorbar(Tav, Beta, yerr, fmt='ob', capsize=3, elinewidth=1, label = 'Data Points with SE')\n",
    "\n",
    "r2_parab = np.round(r2_score(Beta, mymodel(Tav)),2)\n",
    "r2_hyp = np.round(r2_score(Beta, fit_data),2)\n",
    "for cap in caps:\n",
    "    cap.set_color('b')\n",
    "    cap.set_markeredgewidth(3)\n",
    "plt.plot(Tav, mymodel(Tav), color = 'k', lw = 3, label = 'Best Fit Parabola, r$^2$='+str(r2_parab))\n",
    "# plt.plot(Tav, fit_data,'--', label='Best Fit Hyperbola, r$^2$='+str(r2_hyp), color = 'r', lw = 3)\n",
    "plt.ylabel('Spectral Index', weight = None, fontsize = 14, color = 'k')\n",
    "plt.xlabel('Average Temperature (K)', weight = None,fontsize = 14, color = 'k')\n",
    "plt.legend(fontsize = 12,)\n",
    "plt.xticks(fontweight = None ,fontsize = 12, color = 'k')\n",
    "plt.yticks(fontweight = None ,fontsize = 12, color = 'k')\n",
    "plt.tight_layout()"
   ]
  },
  {
   "cell_type": "code",
   "execution_count": 23,
   "metadata": {},
   "outputs": [
    {
     "data": {
      "text/plain": [
       "(0.6729310754085925, -64.2033766452334)"
      ]
     },
     "execution_count": 23,
     "metadata": {},
     "output_type": "execute_result"
    },
    {
     "data": {
      "image/png": "[encoded data removed]",
      "text/plain": [
       "<Figure size 432x360 with 1 Axes>"
      ]
     },
     "metadata": {
      "needs_background": "light"
     },
     "output_type": "display_data"
    }
   ],
   "source": [
    "plt.figure(figsize = [6, 5])\n",
    "#plt.title('Straight Line Fit between Flux at 60 and 100 $\\mu$m', fontweight = 'bold', fontsize = 16)\n",
    "def straight_line(x, m,c):\n",
    "    y = m*x + c\n",
    "    return y\n",
    "popt, pcov = som.curve_fit(straight_line, df.f140, df.f90)\n",
    "# where popt: optimal parameter, pcov : corresponding error in parameter\n",
    "line_model = straight_line(df.f140, popt[0], popt[1])\n",
    "plt.plot(df.f140, line_model, label='Best Fit Straight Line, r$^2$ = 0.83, m = 0.67',color = 'r', lw = 3)\n",
    "plt.plot(df.f140, df.f90,'.',color = 'b', label='Data Points')\n",
    "plt.xlabel('Flux at 140 $\\mu$m (MJy sr$^{-1}$)',fontweight = 'bold',fontsize=14)\n",
    "plt.ylabel('Flux at 90 $\\mu$m (MJy sr$^{-1}$)',fontweight = 'bold',fontsize=14)\n",
    "plt.legend(loc = 'best',fontsize=12)\n",
    "plt.tick_params(direction='in')\n",
    "plt.text(100, 600,'AKARI',fontweight = 'bold',fontsize = 12)\n",
    "plt.text(100, 530,'(b)',fontweight = 'bold',fontsize = 14)\n",
    "plt.xticks(fontweight = 'bold',fontsize=12, color = 'k')\n",
    "plt.yticks(fontweight = 'bold',fontsize=12,color='k')\n",
    "#plt.yticks([1000, 2000, 3000, 4000])\n",
    "#plt.xticks([1000, 2000, 3000, 4000])\n",
    "plt.tight_layout()\n",
    "plt.savefig('Figure/linear_akari.png', dpi=200)\n",
    "popt[0], popt[1]"
   ]
  },
  {
   "cell_type": "code",
   "execution_count": 19,
   "metadata": {},
   "outputs": [
    {
     "data": {
      "text/plain": [
       "21.693229797046822"
      ]
     },
     "execution_count": 19,
     "metadata": {},
     "output_type": "execute_result"
    }
   ],
   "source": [
    "T = -57/(np.log(popt[0]*0.64**5))\n",
    "T"
   ]
  },
  {
   "cell_type": "code",
   "execution_count": 17,
   "metadata": {},
   "outputs": [
    {
     "data": {
      "text/plain": [
       "0.7451536820888678"
      ]
     },
     "execution_count": 17,
     "metadata": {},
     "output_type": "execute_result"
    },
    {
     "data": {
      "image/png": "[encoded data removed]",
      "text/plain": [
       "<Figure size 432x360 with 1 Axes>"
      ]
     },
     "metadata": {
      "needs_background": "light"
     },
     "output_type": "display_data"
    }
   ],
   "source": [
    "from sklearn.metrics import r2_score\n",
    "def straight_line(x, m):\n",
    "    y = m*x \n",
    "    return y\n",
    "plt.figure(figsize=[6,5])\n",
    "popt, pcov = som.curve_fit(straight_line, df.f140, df.f90)\n",
    "# where popt: optimal parameter, pcov : corresponding error in parameter\n",
    "line_model = straight_line(df.f140, popt)\n",
    "plt.plot(df.f140, line_model, label='Best Fit Straight Line',color = 'r', lw = 3)\n",
    "plt.plot(df.f140, df.f90,'.',color = 'b', label='Data Points')\n",
    "plt.xlabel('Flux at 140 $\\mu$m',fontsize=14)\n",
    "plt.ylabel('Flux at 90 $\\mu$m',fontsize=14)\n",
    "plt.legend(fontsize=13)\n",
    "plt.xticks(fontsize=12, color = 'k')\n",
    "plt.yticks(fontsize=12,color='k')\n",
    "#plt.savefig('Figure/f100f60.png', dpi = 400)\n",
    "r2_score(df.f90,line_model) \n",
    "#popt, pcov"
   ]
  },
  {
   "cell_type": "code",
   "execution_count": null,
   "metadata": {},
   "outputs": [],
   "source": []
  }
 ],
 "metadata": {
  "kernelspec": {
   "display_name": "Python 3 (ipykernel)",
   "language": "python",
   "name": "python3"
  },
  "language_info": {
   "codemirror_mode": {
    "name": "ipython",
    "version": 3
   },
   "file_extension": ".py",
   "mimetype": "text/x-python",
   "name": "python",
   "nbconvert_exporter": "python",
   "pygments_lexer": "ipython3",
   "version": "3.8.10"
  }
 },
 "nbformat": 4,
 "nbformat_minor": 4
}
