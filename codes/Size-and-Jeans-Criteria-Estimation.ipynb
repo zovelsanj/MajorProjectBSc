{
 "cells": [
  {
   "cell_type": "code",
   "execution_count": 1,
   "metadata": {},
   "outputs": [],
   "source": [
    "import numpy as np"
   ]
  },
  {
   "cell_type": "markdown",
   "metadata": {},
   "source": [
    "# Size of the structure \n",
    "let $a$ and $b$ are the major and minor diameter directly measered from ALLADIN in unit of degree. First of all, the angular size is converted into radian using the equation given below; \n",
    "- $  180^o=\\pi^c$\n",
    "- $ a^c = \\frac{\\pi^c}{180^o}a^o $\n",
    "- $ b^c = \\frac{\\pi^c}{180^o}b^o $\\\n",
    "The code to convert angle in radian is given below; "
   ]
  },
  {
   "cell_type": "code",
   "execution_count": 2,
   "metadata": {},
   "outputs": [],
   "source": [
    "a_deg = 23.59/60  # initially it was in minute, converted into degree dividing by 60\n",
    "b_deg = 13.8/60\n",
    "a_rad = np.pi*a_deg/180\n",
    "b_rad = np.pi*b_deg/180"
   ]
  },
  {
   "cell_type": "code",
   "execution_count": 3,
   "metadata": {},
   "outputs": [
    {
     "data": {
      "text/plain": [
       "(0.006862052842424372, 0.004014257279586958)"
      ]
     },
     "execution_count": 3,
     "metadata": {},
     "output_type": "execute_result"
    }
   ],
   "source": [
    "a_rad, b_rad"
   ]
  },
  {
   "cell_type": "markdown",
   "metadata": {},
   "source": [
    "# If D be the distance of the nebula /or cavity from us (earth) then the angular size of major and moinor diameter are converted into linear size using the formula; \n",
    "#### - $a_{linear} = D \\times a_{rad}$\n",
    "#### - $b_{linear} = D \\times b_{rad}$\n"
   ]
  },
  {
   "cell_type": "markdown",
   "metadata": {},
   "source": [
    "#### First define distance D"
   ]
  },
  {
   "cell_type": "code",
   "execution_count": 4,
   "metadata": {},
   "outputs": [],
   "source": [
    "D = 309.98 # in pc, this is different for different structure \n"
   ]
  },
  {
   "cell_type": "code",
   "execution_count": 5,
   "metadata": {},
   "outputs": [],
   "source": [
    "a_linear = D*a_rad\n",
    "b_linear = D*b_rad"
   ]
  },
  {
   "cell_type": "code",
   "execution_count": 6,
   "metadata": {},
   "outputs": [
    {
     "data": {
      "text/plain": [
       "(2.127099140094707, 1.2443394715263654)"
      ]
     },
     "execution_count": 6,
     "metadata": {},
     "output_type": "execute_result"
    }
   ],
   "source": [
    "a_linear, b_linear"
   ]
  },
  {
   "cell_type": "markdown",
   "metadata": {},
   "source": [
    "### Thus, the size of the structure is, $a_{linear}\\times b_{linear} = 2.13 pc \\times 1.24 pc$"
   ]
  },
  {
   "cell_type": "markdown",
   "metadata": {},
   "source": [
    "### Calculate mean diameter and radius "
   ]
  },
  {
   "cell_type": "markdown",
   "metadata": {},
   "source": [
    "## The mean diameter is given as\n",
    "## $d_{mean} = \\frac{a_{linear} + b_{linear}}{2}$"
   ]
  },
  {
   "cell_type": "code",
   "execution_count": 7,
   "metadata": {},
   "outputs": [],
   "source": [
    "d_mean = (a_linear + b_linear)/2"
   ]
  },
  {
   "cell_type": "code",
   "execution_count": 8,
   "metadata": {},
   "outputs": [
    {
     "data": {
      "text/plain": [
       "1.6857193058105362"
      ]
     },
     "execution_count": 8,
     "metadata": {},
     "output_type": "execute_result"
    }
   ],
   "source": [
    "d_mean"
   ]
  },
  {
   "cell_type": "markdown",
   "metadata": {},
   "source": [
    "## Thus, the mean diameter is 1.69 pc"
   ]
  },
  {
   "cell_type": "markdown",
   "metadata": {},
   "source": [
    "## The mean radius is given as,\n",
    "###  - $R_{mean}= \\frac{d_{mean}}{2}$"
   ]
  },
  {
   "cell_type": "code",
   "execution_count": 9,
   "metadata": {},
   "outputs": [
    {
     "data": {
      "text/plain": [
       "(0.8428596529052681, 2.600222029212752e+16)"
      ]
     },
     "execution_count": 9,
     "metadata": {},
     "output_type": "execute_result"
    }
   ],
   "source": [
    "R_mean = d_mean/2\n",
    "R_mean, R_mean*3.085e16"
   ]
  },
  {
   "cell_type": "markdown",
   "metadata": {},
   "source": [
    "### Thus, the average radius of structure is 0. pc"
   ]
  },
  {
   "cell_type": "markdown",
   "metadata": {},
   "source": [
    "# Jeans Criteria : Densiy and Jeans Mass"
   ]
  },
  {
   "cell_type": "markdown",
   "metadata": {},
   "source": [
    "### The density of the structure is calculated as;\n",
    "## - $\\rho = (\\frac{3}{4\\pi})^{2/3} \\frac{k_b T}{m_HGR^2}$"
   ]
  },
  {
   "cell_type": "code",
   "execution_count": 14,
   "metadata": {},
   "outputs": [],
   "source": [
    "T = 28.68 # K\n",
    "m_H = 1.67e-27 \n",
    "R = R_mean*3.0857e16 \n",
    "k_b = 1.38e-23\n",
    "G = 6.67e-11"
   ]
  },
  {
   "cell_type": "code",
   "execution_count": 15,
   "metadata": {},
   "outputs": [
    {
     "data": {
      "text/plain": [
       "2.021493074689246e-18"
      ]
     },
     "execution_count": 15,
     "metadata": {},
     "output_type": "execute_result"
    }
   ],
   "source": [
    "density = (3/(4*np.pi))**(2/3)*k_b*T/(m_H*G*R**2)\n",
    "density"
   ]
  },
  {
   "cell_type": "markdown",
   "metadata": {},
   "source": [
    "### The Jeans Mass of the structure is calculated as;\n",
    "## - $M_J =  (\\frac{k_b T}{m_HG})^{3/2}\\frac{1}{\\rho^{1/2}} $"
   ]
  },
  {
   "cell_type": "code",
   "execution_count": 16,
   "metadata": {},
   "outputs": [
    {
     "data": {
      "text/plain": [
       "1.4896620828259788e+32"
      ]
     },
     "execution_count": 16,
     "metadata": {},
     "output_type": "execute_result"
    }
   ],
   "source": [
    "M_J = (k_b*T/(m_H*G))**(3/2)*1/np.sqrt(density)\n",
    "M_J"
   ]
  },
  {
   "cell_type": "code",
   "execution_count": 17,
   "metadata": {},
   "outputs": [
    {
     "data": {
      "text/plain": [
       "74.89502678863644"
      ]
     },
     "execution_count": 17,
     "metadata": {},
     "output_type": "execute_result"
    }
   ],
   "source": [
    "M_J_Sun = M_J/(1.989e+30)\n",
    "M_J_Sun"
   ]
  },
  {
   "cell_type": "code",
   "execution_count": null,
   "metadata": {},
   "outputs": [],
   "source": []
  },
  {
   "cell_type": "code",
   "execution_count": null,
   "metadata": {},
   "outputs": [],
   "source": []
  }
 ],
 "metadata": {
  "kernelspec": {
   "display_name": "Python 3 (ipykernel)",
   "language": "python",
   "name": "python3"
  },
  "language_info": {
   "codemirror_mode": {
    "name": "ipython",
    "version": 3
   },
   "file_extension": ".py",
   "mimetype": "text/x-python",
   "name": "python",
   "nbconvert_exporter": "python",
   "pygments_lexer": "ipython3",
   "version": "3.8.10"
  }
 },
 "nbformat": 4,
 "nbformat_minor": 4
}
